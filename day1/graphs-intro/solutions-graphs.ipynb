{
 "cells": [
  {
   "cell_type": "code",
   "execution_count": 1,
   "id": "c269ff3c",
   "metadata": {},
   "outputs": [],
   "source": [
    "G_list=[[1,2],[2,5],[5,4],[4,3],[3,1],[1,4]]\n",
    "G_matrix=[[0,1,1,1,0],\n",
    "         [1,0,0,0,1],\n",
    "         [1,0,0,1,0],\n",
    "         [1,0,1,0,1],\n",
    "         [0,1,0,1,0]]"
   ]
  },
  {
   "cell_type": "code",
   "execution_count": 5,
   "id": "17624ddd",
   "metadata": {},
   "outputs": [],
   "source": [
    "def edges(G_list):\n",
    "    flatten_list=sum(G_list,[])\n",
    "    length=len(set(flatten_list))\n",
    "    return length"
   ]
  },
  {
   "cell_type": "code",
   "execution_count": 6,
   "id": "155f2cbf",
   "metadata": {},
   "outputs": [],
   "source": [
    "def vertices(G_list):\n",
    "    return len(G_list)"
   ]
  },
  {
   "cell_type": "code",
   "execution_count": 12,
   "id": "e687a567",
   "metadata": {},
   "outputs": [],
   "source": [
    "def degree(G_list,v):\n",
    "    count=0\n",
    "    for i in G_list:\n",
    "        if v in i:\n",
    "            count=count+1\n",
    "    return count"
   ]
  }
 ],
 "metadata": {
  "kernelspec": {
   "display_name": "Python 3 (ipykernel)",
   "language": "python",
   "name": "python3"
  },
  "language_info": {
   "codemirror_mode": {
    "name": "ipython",
    "version": 3
   },
   "file_extension": ".py",
   "mimetype": "text/x-python",
   "name": "python",
   "nbconvert_exporter": "python",
   "pygments_lexer": "ipython3",
   "version": "3.9.12"
  }
 },
 "nbformat": 4,
 "nbformat_minor": 5
}
