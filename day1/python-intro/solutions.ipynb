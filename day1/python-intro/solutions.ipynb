{
 "cells": [
  {
   "cell_type": "code",
   "execution_count": 1,
   "id": "8e2deb27",
   "metadata": {},
   "outputs": [],
   "source": [
    "def rever(l):\n",
    "    return l[::-1]"
   ]
  },
  {
   "cell_type": "code",
   "execution_count": 2,
   "id": "fb2f6d2a",
   "metadata": {},
   "outputs": [],
   "source": [
    "def is_pali(l):\n",
    "    return l==l[::-1]"
   ]
  },
  {
   "cell_type": "code",
   "execution_count": 3,
   "id": "77c40171",
   "metadata": {},
   "outputs": [],
   "source": [
    "def all_true(l):\n",
    "    for element in l:\n",
    "        if element!=True:\n",
    "            return False\n",
    "    return True"
   ]
  },
  {
   "cell_type": "code",
   "execution_count": 4,
   "id": "7954aeac",
   "metadata": {},
   "outputs": [],
   "source": [
    "def hm_true(l):\n",
    "    return l.count(True)"
   ]
  },
  {
   "cell_type": "code",
   "execution_count": 5,
   "id": "2318604f",
   "metadata": {},
   "outputs": [],
   "source": [
    "def cum_sum(l):\n",
    "    tab=[]\n",
    "    for i in range(len(l)):\n",
    "        if(i==0):\n",
    "            tab.append(l[i])\n",
    "        else:\n",
    "            tab.append(l[i]+tab[-1])\n",
    "    return tab"
   ]
  },
  {
   "cell_type": "code",
   "execution_count": 6,
   "id": "e6f19582",
   "metadata": {},
   "outputs": [],
   "source": [
    "def is_sorted(l):\n",
    "    return l==sorted(l)"
   ]
  },
  {
   "cell_type": "code",
   "execution_count": 7,
   "id": "ea274515",
   "metadata": {},
   "outputs": [],
   "source": [
    "def min_max(l):\n",
    "    return min(l),max(l)"
   ]
  },
  {
   "cell_type": "code",
   "execution_count": 8,
   "id": "2c856524",
   "metadata": {},
   "outputs": [],
   "source": [
    "def min_max_arg(l):\n",
    "    return index(min(l)),index(max(l))"
   ]
  },
  {
   "cell_type": "code",
   "execution_count": 9,
   "id": "fade10b3",
   "metadata": {},
   "outputs": [],
   "source": [
    "from statistics import mode\n",
    "def bs_model(l,k):\n",
    "    return mode(l)"
   ]
  },
  {
   "cell_type": "code",
   "execution_count": 10,
   "id": "2e751b4d",
   "metadata": {},
   "outputs": [],
   "source": [
    "def bubbleSort(l,k):\n",
    "    for i in range(k):\n",
    "        for j in range(0,k-i-1):\n",
    "            if l[j] > l[j + 1]:\n",
    "                temp = l[j]\n",
    "                l[j] = l[j+1]\n",
    "                l[j+1] = temp\n",
    "    return l"
   ]
  },
  {
   "cell_type": "code",
   "execution_count": 11,
   "id": "501ee01b",
   "metadata": {},
   "outputs": [],
   "source": [
    "def dir_mode(l):\n",
    "    tab={}\n",
    "    for i in l:\n",
    "        if i in tab:\n",
    "            tab[i]+=1\n",
    "        else:\n",
    "            tab[i]=1\n",
    "    return tab"
   ]
  },
  {
   "cell_type": "code",
   "execution_count": 12,
   "id": "5cac6dd3",
   "metadata": {},
   "outputs": [],
   "source": [
    "def are_unique(l):\n",
    "    return len(l)==len(set(l))"
   ]
  },
  {
   "cell_type": "code",
   "execution_count": 14,
   "id": "11ddb19d",
   "metadata": {},
   "outputs": [],
   "source": [
    "def bin_search(l, x):\n",
    "    low = 0\n",
    "    high = len(arr) - 1\n",
    "    mid = 0\n",
    " \n",
    "    while low <= high:\n",
    " \n",
    "        mid = (high + low) // 2\n",
    " \n",
    "        # If x is greater, ignore left half\n",
    "        if arr[mid] < x:\n",
    "            low = mid + 1\n",
    " \n",
    "        # If x is smaller, ignore right half\n",
    "        elif arr[mid] > x:\n",
    "            high = mid - 1\n",
    " \n",
    "        # means x is present at mid\n",
    "        else:\n",
    "            return mid\n",
    " \n",
    "    # If we reach here, then the element was not present\n",
    "    return -1"
   ]
  }
 ],
 "metadata": {
  "kernelspec": {
   "display_name": "Python 3 (ipykernel)",
   "language": "python",
   "name": "python3"
  },
  "language_info": {
   "codemirror_mode": {
    "name": "ipython",
    "version": 3
   },
   "file_extension": ".py",
   "mimetype": "text/x-python",
   "name": "python",
   "nbconvert_exporter": "python",
   "pygments_lexer": "ipython3",
   "version": "3.9.12"
  }
 },
 "nbformat": 4,
 "nbformat_minor": 5
}
