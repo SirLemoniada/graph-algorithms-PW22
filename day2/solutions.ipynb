{
 "cells": [
  {
   "cell_type": "markdown",
   "id": "17ac6e37",
   "metadata": {},
   "source": [
    "# programowanie"
   ]
  },
  {
   "cell_type": "code",
   "execution_count": 17,
   "id": "b5b9678a",
   "metadata": {},
   "outputs": [],
   "source": [
    "G_list=[[6,8],[9],[3,4],[2,5,6],[2],[3,9],[0,3,7],[6],[0],[1,5]]"
   ]
  },
  {
   "cell_type": "code",
   "execution_count": 18,
   "id": "81280bb6",
   "metadata": {},
   "outputs": [
    {
     "name": "stdout",
     "output_type": "stream",
     "text": [
      "3\n",
      "2\n",
      "4\n",
      "5\n",
      "9\n",
      "1\n",
      "6\n",
      "0\n",
      "8\n",
      "7\n"
     ]
    }
   ],
   "source": [
    "# Using a Python dictionary to act as an adjacency list\n",
    "graph = {\n",
    "    'A' : ['B','C'],\n",
    "    'B' : ['D', 'E'],\n",
    "    'C' : ['F'],\n",
    "    'D' : [],\n",
    "    'E' : ['F'],\n",
    "    'F' : []\n",
    "}\n",
    "graph2=[[1,2],[3,4],[5],[],[5],[]]\n",
    "\n",
    "visited = set() # Set to keep track of visited nodes.\n",
    "\n",
    "def dfs(visited, graph, node):\n",
    "    if node not in visited:\n",
    "        print (node)\n",
    "        visited.add(node)\n",
    "        for neighbour in graph[node]:\n",
    "            dfs(visited, graph, neighbour)\n",
    "\n",
    "# Driver Code\n",
    "dfs(visited, G_list, 3)"
   ]
  },
  {
   "cell_type": "markdown",
   "id": "e83bf364",
   "metadata": {},
   "source": [
    "# matma"
   ]
  },
  {
   "cell_type": "code",
   "execution_count": 20,
   "id": "9577e60b",
   "metadata": {},
   "outputs": [],
   "source": [
    "zad1a=[[1,4],[0,2],[1,3],[2,4],[3,0]]\n",
    "zad1b=[[3],[3],[3],[0,1,2,4],[3,5],[4]]"
   ]
  },
  {
   "cell_type": "markdown",
   "id": "78b9778b",
   "metadata": {},
   "source": [
    "zad 2: n+1"
   ]
  },
  {
   "cell_type": "markdown",
   "id": "ff203443",
   "metadata": {},
   "source": [
    "zad 5: <br>\n",
    "min: $min(n,2)$ <br>\n",
    "max: $n-1$"
   ]
  }
 ],
 "metadata": {
  "kernelspec": {
   "display_name": "Python 3 (ipykernel)",
   "language": "python",
   "name": "python3"
  },
  "language_info": {
   "codemirror_mode": {
    "name": "ipython",
    "version": 3
   },
   "file_extension": ".py",
   "mimetype": "text/x-python",
   "name": "python",
   "nbconvert_exporter": "python",
   "pygments_lexer": "ipython3",
   "version": "3.9.12"
  }
 },
 "nbformat": 4,
 "nbformat_minor": 5
}
